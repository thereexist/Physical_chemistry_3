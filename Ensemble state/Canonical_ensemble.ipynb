{
 "cells": [
  {
   "cell_type": "markdown",
   "metadata": {},
   "source": [
    "## Canonical ensemble 개념 소개\n",
    "\n",
    "세상과 단절하고 스스로 격리를 하고 있는(Isolated) 직육면체 모양의 계(system)을 상상해봅시다.\n",
    "\n",
    "이때 이 계는 부피가 일정하고($V_T$), 외부와 어떠한 상호 작용도 하지 않기에 내부에 있는 입자의 개수($N_T$), 내부에 가지고 있는 에너지($E_T$)는 일정합니다.\n",
    "\n",
    "(이러한 계를 micro - canonical system이라고 합니다.)\n",
    "\n",
    "이 계 내부에 존재하고 있는 입자는 이상 기체의 point particle로 분자의 진동(vibration)이나 회전(rotation) 운동을 고려하지 않아도 되는 상황입니다.\n",
    "\n",
    "오직 translational motion에 의한 energy만 가지고 있는 상황입니다.\n",
    "\n",
    "이 계 내부를 살펴보니, 직육면체의 내부가 파티션으로 $\\mathcal{A}$ 개의 정육면체들(subsystems)로 나뉘어 있다는 것을 알게 되었습니다.\n",
    "\n",
    "이 파티션 벽은 단열이 되어 있지 않아 $\\mathcal{A}$ 개의 정육면체들은 서로 열을 교환할 수 있는 상황입니다.\n",
    "\n",
    "파티션으로 만들어진 정육면체를 살펴보니, 내부에 있는 입자의 개수는 모두 동일하고($\\frac{N_T}{\\mathcal{A}} \\equiv N$), 서로 부피도 같았습니다.($\\frac{V_T}{\\mathcal{A}} \\equiv V(=L^3)$)\n",
    "\n",
    "정리하자면, 파티션으로 만들어진 정육면체 계는 (N,V)가 일정한 상황에 놓여있습니다.\n",
    "\n",
    "\n",
    "---------------------------------------------------------------------------------------\n",
    "\n",
    "자, 여기에서 우리는 단 하나의 정육면체만 random하게 뽑아서 관측을 해본다고 해봅시다.\n",
    "\n",
    "이때 관측된 정육면체를 i번째 정육면체라고 합시다.\n",
    "\n",
    "이 정육면체 내부에 있는 N개의 입자들은 어떤 energy state에 있을까요?\n",
    "\n",
    "N개의 입자들 중 임의의 j번째 particle이 가지는 energy는 앞서 배운 particle in a box의 결과를 이용해 다음과 같이 표현할 수 있습니다.\n",
    "\n",
    "$$\\varepsilon_{i,j} = \\frac{h^2}{8mL^2}(n_{x_{i,j}}^2+n_{y_{i,j}}^2+n_{z_{i,j}}^2) \\equiv \\frac{h^2}{8mL^2}\\{\\overrightarrow{\\rm n}\\}_{{i,j}}^{2}$$\n",
    "\n",
    "그렇다면, 이 정육면체 내 N개의 입자들을 모두 고려한 입자가 가지는 energy는\n",
    "\n",
    "$$\\varepsilon_{i} = \\frac{h^2}{8mL^2}\\sum_{j=1}^N(n_{x_{i,j}}^2+n_{y_{i,j}}^2+n_{z_{i,j}}^2) = \\frac{h^2}{8mL^2}\\sum_{j=1}^N(\\overrightarrow{\\rm n}_{{i,j}}^{2}) \\equiv \\frac{h^2}{8mL^2}\\{\\overleftrightarrow{\\rm n}\\} _{{i}}^{2} $$\n",
    "\n",
    "으로 쓸 수 있게 됩니다.\n",
    "\n",
    "$n_{x_{i,j}}$, $n_{y_{i,j}}$, $n_{z_{i,j}}$ 값들에 의해 energy가 정해지게 된다는 의미입니다.\n",
    "\n",
    "그렇다면, 위의 $n_{x_{i,j}}$, $n_{y_{i,j}}$, $n_{z_{i,j}}$ 값들은 어떤 값들이든지 마음대로 고를 수 있을까요?\n",
    "\n",
    "------------------------------------------------------------------------------------------------------------------------\n",
    "\n",
    "이렇게 썼다는 것은 자유롭게 고르지 못한다는 것을 암시하는 것이겠죠?\n",
    "\n",
    "네. 자유롭게 고를 수 없습니다.\n",
    "\n",
    "처음에 직육면체가 가지고 있는 energy $E_T$의 값은 외부와 단절되어있기에, 일정한 값을 가진다고 말했었죠?\n",
    "\n",
    "이것이 족쇄가 되어버립니다. 즉,\n",
    "\n",
    "$$\\sum_{i=1}^{\\mathcal{A}} \\varepsilon_{i} = E_T$$\n",
    "\n",
    "라는 제약이 걸리기에, 1번째 정육면체에서 모든 $n_{x_{1,j}}$, $n_{y_{1,j}}$, $n_{z_{1,j}}$들이 작은 값을 갖게 된다면 어느 한 정육면체 내부의 $n_{x_{i,j}}$, $n_{y_{i,j}}$, $n_{z_{i,j}}$ 들은 큰 값을 가질수밖에 없게 됩니다.\n",
    "\n",
    "이것이 바로 constraint입니다."
   ]
  },
  {
   "cell_type": "markdown",
   "metadata": {},
   "source": [
    "i번째 정육면체 내부의 particle이 가지는 energy state는 $\\{\\overleftrightarrow{\\rm n}\\} _{{i}}$에 의해 좌지우지됩니다. \n",
    "\n",
    "이 $3\\times N$ matrix가 취할 수 있는 조합의 총 개수($=\\Omega$)보다 $\\mathcal{A}$가 더 큰 상황이라면, $\\{\\overleftrightarrow{\\rm n}\\} _{{i}} = \\{\\overleftrightarrow{\\rm n}\\} _{{j}}$의 상황도 얼마든지 생겨날 수 있게 됩니다.\n",
    "\n",
    "정육면체 계가 가질 수 있는 energy state는 $E_i$ ($1\\leq i \\leq \\Omega$)로 표현이 가능하고, 이 energy state를 갖고 있는 정육면체의 개수는 $a_i$ 로 표현이 가능하게 됩니다.\n"
   ]
  },
  {
   "cell_type": "markdown",
   "metadata": {},
   "source": [
    "그렇다면, 다음과 같은 식이 만족되게 됩니다.\n",
    "\n",
    "$$\\sum_{i=1}^{ \\Omega} a_{i} E_{i} = E_T$$\n",
    "\n",
    "$$\\sum_{i=1}^{ \\Omega} a_{i} = \\mathcal{A}$$\n",
    "\n"
   ]
  },
  {
   "cell_type": "markdown",
   "metadata": {},
   "source": [
    "이러한 상황에서 $\\textbf{a} \\equiv \\{a_1, a_2, a_3, ... a_\\Omega \\}$ 는 어떤 값을 취하게 될까요?\n",
    "\n",
    "수업에서 설명했던대로 the most probable state $a^*$를 만족해야 되고, 이는 $W(\\textbf{a}) = \\frac{\\mathcal{A}!}{\\prod_{i=1}^{\\Omega}a_i!}$이 가장 큰 경우입니다.\n",
    "\n",
    "만약에 energy에 대한 제약(constraint)이 없다면 $a_i=\\frac{\\mathcal{A}}{\\Omega}$가 되겠지만, 전체 직육면체의 energy가 일정해야된다는 constraint가 있기 때문에, 이는 성립하지 않게 됩니다.\n",
    "\n",
    "그렇기에 \"Lagrange undetermined multiplier method\"를 사용해 constraint가 있을때의 \"constrained maximum\"을 구해야 되고, 그것의 결과가 그 유명한 [**Boltzmann distribution**](https://en.wikipedia.org/wiki/Boltzmann_distribution)입니다."
   ]
  }
 ],
 "metadata": {
  "language_info": {
   "name": "python"
  },
  "orig_nbformat": 4
 },
 "nbformat": 4,
 "nbformat_minor": 2
}
