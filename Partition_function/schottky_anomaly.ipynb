{
 "cells": [
  {
   "cell_type": "markdown",
   "metadata": {},
   "source": [
    "## Heat capacity of two state model\n",
    "\n",
    "중간 레포트 2번 문제에 대한 문제 해설입니다.\n",
    "\n",
    "문제는 partition function을 제대로 이해하고 계신다면 금방 풀 수 있습니다."
   ]
  },
  {
   "cell_type": "markdown",
   "metadata": {},
   "source": [
    "![Alt text](./schottky_anomaly.png)"
   ]
  },
  {
   "cell_type": "markdown",
   "metadata": {},
   "source": [
    "위의 결과를 통해 molar heat capacity \n"
   ]
  },
  {
   "cell_type": "markdown",
   "metadata": {},
   "source": [
    "$$\\bar{C}_V = C_V/n = N_{Avo}k_B \\beta^2 \\varepsilon^2 \\frac{e^{\\beta \\varepsilon}}{(e^{\\beta \\varepsilon}+1)^2} = R \\beta^2 \\varepsilon^2 \\frac{e^{\\beta \\varepsilon}}{(e^{\\beta \\varepsilon}+1)^2}$$\n"
   ]
  },
  {
   "cell_type": "markdown",
   "metadata": {},
   "source": [
    "이라는 사실을 알 수 있습니다. 이때, $N_{Avo}$는 아보가드로 수 입니다.\n",
    "\n",
    "이제 $\\beta \\varepsilon$을 $x$라는 변수로 치환해서 $\\bar{C}_V / R$ 그래프를 그려봅시다.\n",
    "\n",
    "$$\\bar{C}_V / R = \\frac{x^2 e^{x}}{(e^{x}+1)^2}$$"
   ]
  },
  {
   "cell_type": "code",
   "execution_count": 6,
   "metadata": {},
   "outputs": [
    {
     "data": {
      "image/png": "[encoded data removed]",
      "text/plain": [
       "<Figure size 576x432 with 1 Axes>"
      ]
     },
     "metadata": {
      "needs_background": "light"
     },
     "output_type": "display_data"
    }
   ],
   "source": [
    "import numpy as np\n",
    "import matplotlib.pyplot as plt\n",
    "\n",
    "# x_array 생성. np.logspace는 10**-2(=0.01)부터 10**2(=100) 까지의 수를 log 등간격으로 뽑은 array를 생성해주는 함수입니다.\n",
    "x_array = np.logspace(-2,2,1000)\n",
    "\n",
    "# 함수 선언\n",
    "def R_over_molar_heat_capacity(x):\n",
    "    return x**2 * np.exp(x) / (np.exp(x) + 1)**2\n",
    "\n",
    "# 그래프 그리기. 이때 plt.semilogx는 x축을 log axis로, y축은 linear axis로 그려주는 함수입니다.\n",
    "plt.figure(figsize = (8,6))\n",
    "plt.semilogx(x_array, R_over_molar_heat_capacity(x_array), 'r-')\n",
    "plt.semilogx([2.4,2.4],[-10,10],'k--') # x = 2.4에 y축에 평행한 점선을 그려봤습니다. 이때의 값이 maximum value 근방이기 때문이죠.\n",
    "plt.ylim(0,0.5)\n",
    "\n",
    "plt.xlabel(r\"$x (= \\beta \\varepsilon) $\",fontsize = 15)\n",
    "plt.ylabel(r\"$\\bar{C}_V / R$\",fontsize = 15)\n",
    "plt.xticks(fontsize = 15)\n",
    "plt.yticks(fontsize = 15)\n",
    "plt.show()"
   ]
  },
  {
   "cell_type": "markdown",
   "metadata": {},
   "source": [
    "$\\bar{C}_V / R$의 극대값은 어떻게 구하면 좋을까요?\n",
    "\n",
    "$\\ln (\\bar{C}_V / R)$을 x에 대해 편미분을 하시면 $2/x - tanh(x/2)$ 값이 나옵니다. (편미분은 직접 해보세요. 로그를 취한뒤 미분을 하는 이유는 계산을 좀 더 쉽게 하기 위함입니다.)\n",
    "\n",
    "이 값이 0이 되는 $x$값이 극값을 가지는 곳이고 $x=2.40$ 입니다.(대략적으로..)\n",
    "\n",
    "---------------------------------------------------\n",
    "\n",
    "그렇다면, 위에서 말하고 있는 상황은 연습문제를 위해 가상으로 만든 환경이니 존재하지 않는 상황일까요?\n",
    "\n",
    "그렇지 않습니다.\n",
    "\n",
    "위의 상황은 [**Schottky anomaly**](https://www.wikiwand.com/en/Schottky_anomaly)을 정확히 보여주는 상황이라고 볼 수 있습니다.\n"
   ]
  },
  {
   "cell_type": "markdown",
   "metadata": {},
   "source": [
    "![Alt text](./2008res15fig2_l.png)\n",
    "\n",
    "실제로 실험또한 이루어져서, 측정이 되고 있다고 하네요.. 궁금하신 분은 [**링크**](http://www.chem.sci.osaka-u.ac.jp/lab/micro/report/rcmt/2008/2008res15.html.en)를 참조해주시면 될 것 같습니다."
   ]
  },
  {
   "cell_type": "markdown",
   "metadata": {},
   "source": []
  }
 ],
 "metadata": {
  "interpreter": {
   "hash": "e69bcb2cf846a92751550f10f7c7122ab68e4775a7df36529e8a81fa08090bb8"
  },
  "kernelspec": {
   "display_name": "Python 3.9.7 ('base')",
   "language": "python",
   "name": "python3"
  },
  "language_info": {
   "codemirror_mode": {
    "name": "ipython",
    "version": 3
   },
   "file_extension": ".py",
   "mimetype": "text/x-python",
   "name": "python",
   "nbconvert_exporter": "python",
   "pygments_lexer": "ipython3",
   "version": "3.9.7"
  },
  "orig_nbformat": 4
 },
 "nbformat": 4,
 "nbformat_minor": 2
}
