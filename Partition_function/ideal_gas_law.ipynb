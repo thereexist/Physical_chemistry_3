{
 "cells": [
  {
   "cell_type": "markdown",
   "metadata": {},
   "source": [
    "## Ideal gas law derivation from partition function\n",
    "\n",
    "학생 여러분들. 새로운 개념인 Partition function을 배우느라 수고 많으셨습니다.\n",
    "\n",
    "Partition function이 생소한 것도 문제지만, \"이런걸 왜 배우는거야?\" 라는 질문이 머리속에 계속 떠오른다는 것이 힘들었을 것으로 생각이 됩니다.\n",
    "\n",
    "그런 부분을 조금 해소해주고 싶어서 준비를 해봤습니다.\n",
    "\n",
    "김지현 교수님께서 첫 시간에 이야기 했던 \"통계역학을 배우는 이유\"는 다음과 같습니다.\n",
    "\n",
    "> 물리화학 (1) 에서 배운 Quantum chemistry는 미시세계에서 분자의 상태를 규정하는 학문이다.\n",
    ">\n",
    "> 물리화학 (2) 에서 배운 Thermodynaics는 거시세계에서 기체의 성질을 다루는 학문이다.\n",
    ">\n",
    "> 물리화학 (3) 에서 배운 Statistical mechanics는 이 둘을 이어주는 다리 역할을 한다.\n",
    "\n",
    "그렇다면 Statistical mechanics는 Quantum chemistry에서 구한 원자의 energy state를 이용해서 Thermodynamics의 어떤 것을 설명할 수 있을까요?\n",
    "\n",
    "\"온도와 압력이 같으면 계의 부피는 입자의 개수에 비례한다.\"는 Avogadro's law, \n",
    "\n",
    "\"온도와 입자의 개수가 같은 계의 내부 압력은 계의 부피에 반비례한다.\"는 Boyle's law,\n",
    "\n",
    "\"입자의 개수와 온도가 같은 계의 부피는 계의 온도에 비례한다.\"는 Charles's law,\n",
    "\n",
    "가 합쳐진 이상기체 법칙(Ideal gas law)을 설명해보는 것은 어떨까요?\n",
    "\n",
    "----------------------------------------------------------------\n",
    "\n",
    "이런 이야기를 하면 다음과 같은 질문을 하는 학생이 생길수도 있다는 생각이 듭니다.\n",
    "\n",
    "\"이상 기체 법칙은 이미 만들어진 법칙인데, 이걸 설명한다고요?\"\n",
    "\n",
    "통계역학이 이상 기체 법칙을 설명하기 전까지 이상 기체 법칙은 \"empirical laws\" 이었습니다. \n",
    "\n",
    "이는 현상을 다각도로 관측했을 때 얻은 법칙인 것이지 증명된 법칙이 아니었다는 것을 의미합니다.\n",
    "\n",
    "------------------------------------------------------------------------\n",
    "\n",
    "샛길로 나가는 것은 이정도로 하고(궁금하면 나중에 검색해보세요.) 진행해보도록 하겠습니다.\n",
    "\n",
    "우선 기체 분자 하나가 가지는 partition function은 다음과 같이 기술할 수 있습니다. "
   ]
  },
  {
   "cell_type": "markdown",
   "metadata": {},
   "source": [
    "$$q(V,T) = q_{trans}(V,T)q_{vib}(T)q_{rot}(T)q_{elec}(T)$$"
   ]
  },
  {
   "cell_type": "markdown",
   "metadata": {},
   "source": [
    "이때, $q(V,T)$를 구성하는 4가지 factor를 살펴보면 $q_{trans}(V,T)$를 제외한 나머지 3개는 계(system)의 부피에 무관한(independent) 값이라는 것을 알 수 있습니다.\n",
    "\n",
    "이제, N개의 indistinguishable한 기체 분자가 있는 계가 가지게 되는 partition function을 써보도록 하겠습니다."
   ]
  },
  {
   "cell_type": "markdown",
   "metadata": {},
   "source": [
    "$$Q(N,V,T) = \\frac{q^N}{N!}$$"
   ]
  },
  {
   "cell_type": "markdown",
   "metadata": {},
   "source": [
    "수업시간에 배운대로, 이 partition function을 이용해 Helmholtz free energy($=A$)를 다음과 같이 쓸 수 있습니다."
   ]
  },
  {
   "cell_type": "markdown",
   "metadata": {},
   "source": [
    "$$A = -k_B T \\ln(Q)$$"
   ]
  },
  {
   "cell_type": "markdown",
   "metadata": {},
   "source": [
    "이때, Heat가 \"reversible process\"로 왕래하고, 외부에서 가해진 일, 또는 외부에 한 일이 \"P-V work\"로만 기술되는 경우, Helmholtz의 변화량은 다음과 같이 쓸 수 있게 됩니다."
   ]
  },
  {
   "cell_type": "markdown",
   "metadata": {},
   "source": [
    "$$dA = -S dT -P dV$$"
   ]
  },
  {
   "cell_type": "markdown",
   "metadata": {},
   "source": [
    "이러한 결과를 통해, 계의 내부 압력은 다음과 같이 기술할 수 있게 됩니다."
   ]
  },
  {
   "cell_type": "markdown",
   "metadata": {},
   "source": [
    "\n",
    "$$ P = -\\frac{\\partial A}{\\partial V} = k_B T \\frac{\\partial (\\ln q^N)}{\\partial V} = N k_B T \\frac{\\partial (\\ln q)}{\\partial V} = N k_B T \\frac{\\partial (\\ln q_{trans})}{\\partial V}$$\n"
   ]
  },
  {
   "cell_type": "markdown",
   "metadata": {},
   "source": [
    "( $\\because$ $q_{trans}(V,T)$ is the only volume dependent value in partition function of single particle $q(V,T)$)\n",
    "\n",
    "이제 $q_{trans}$에 이전에 \"particle in a box (3D)\" 문제를 풀어서 얻은 결과를 대입해서 계산을 해볼까요?"
   ]
  },
  {
   "cell_type": "markdown",
   "metadata": {},
   "source": [
    "$$q_{trans}(V,T) = \\frac{V}{\\Lambda(T)^3}$$\n",
    "\n",
    "$$\\Lambda(T) = \\frac{h}{\\sqrt{2 \\pi m k_B T}}$$"
   ]
  },
  {
   "cell_type": "markdown",
   "metadata": {},
   "source": [
    "$$N k_B T \\frac{\\partial (\\ln q_{trans})}{\\partial V} = N k_B T \\frac{\\partial (\\ln V)}{\\partial V} = \\frac{N k_B T}{V}$$"
   ]
  },
  {
   "cell_type": "markdown",
   "metadata": {},
   "source": [
    "따라서, 위의 결과를 조금만 정리하면 다음과 같이 이상 기체 법칙을 적을 수 있습니다."
   ]
  },
  {
   "cell_type": "markdown",
   "metadata": {},
   "source": [
    "$$\\therefore PV = N k_B T$$"
   ]
  },
  {
   "cell_type": "markdown",
   "metadata": {},
   "source": [
    "그동안 실험 결과를 분석해서 얻었던 \"경험적인\" 결과였던 이상 기체 법칙이 통계역학을 통해 증명이 되었습니다.\n",
    "\n",
    "---------------------------------------------------------------------------------\n",
    "\n",
    "이 결과를 보여주면 학생들은 두가지 반응 중 하나를 보이게 되죠.\n",
    "\n",
    "1. \"와! 저게 증명이 되네? 그런데 양자 역학적으로 구한 계산 결과를 넣었는데 저렇게 된다고? 진짜 신기하다.\"(또는 비슷한 반응들)\n",
    "\n",
    "2. \"어렵게 유도한건데, 이미 알고있는 식이었다고? 그럼 왜한거지?\"\n",
    "\n",
    "1번의 반응을 보이신 분들은 이론 공부나 연구를 하는데 조금의 가능성을 가진 분들이고, 2번의 반응을 보이신 분은 적어도 통계 역학쪽은 이론 연구를 하기에는 적성이 안맞을 확률이 높은 학생분들입니다.\n",
    "\n",
    "저는 개인적으로 2번에 해당하는 학생들이 이해가 됩니다. 그동안의 어려운 내용들을 배운 결과가 고작 이거라니.. 실용적인 학문이 아니구나 라는 한탄을 하실 수도 있습니다.\n",
    "\n",
    "2번의 반응을 보인 분들에게는 죄송하게 되었지만, 아마 이번 학기가 끝날 때 까지 배우는 내용들은 이런 내용들일 것입니다.\n",
    "\n",
    "그런 분들에게는, \"저렇게 될 수도 있구나.\" 라는 열린 마음을 가져볼 것을 권유하고 싶네요. \n",
    "\n",
    "그렇다고 굳이 자기의 생각을 꺾어서 1번과 같은 학생이 되려고 노력하실 필요는 없습니다. 세상은 2번과 같은 반응을 보이는 학생들을 더 필요하고 있을 수도 있어요.(특히 산업계에서..)\n",
    "\n",
    "--------------------------------------------------------------------------------------\n",
    "\n",
    "Ideal gas law 외에도 Heat capacity, Chemical potential 등등의 거시적 관점에서 다루어졌던 양들, 관측은 되었지만 관측 전에는 예측되지 못했던 양들이 statistical mechanics를 통해 수식으로 표현이 가능하게 되었습니다.\n",
    "\n",
    "이렇게 수식으로 구한 값은 실제 실험 결과와 크게 차이가 나지 않고, 오히려 실험 결과와 불일치 할 때, \"실험 틀렸네. 실험 다시해와.\" 라고 말을 할 수 있을 정도로 정확도가 높습니다.\n",
    "\n",
    "이것이 통계 역학이 가진 매력이고 강점이라고 할 수 있습니다.\n",
    "\n",
    "중간 레포트 과제를 풀어보면서 이런 매력을 한번 확인해보는 시간을 가져보시길 바랍니다."
   ]
  },
  {
   "cell_type": "markdown",
   "metadata": {},
   "source": []
  }
 ],
 "metadata": {
  "language_info": {
   "name": "python"
  },
  "orig_nbformat": 4
 },
 "nbformat": 4,
 "nbformat_minor": 2
}
