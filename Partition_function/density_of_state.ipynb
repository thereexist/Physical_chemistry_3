{
 "cells": [
  {
   "cell_type": "markdown",
   "metadata": {},
   "source": [
    "## Density of states\n",
    "\n",
    "p.71에서 나온 $\\Phi(\\varepsilon) \\equiv \\frac{\\pi}{6} (8 m a^2 \\varepsilon / h^2)^{3/2}$ 값을 real value들을 통해 계산을 하면 어떻게 되는지 알아봅시다. "
   ]
  },
  {
   "cell_type": "code",
   "execution_count": 2,
   "metadata": {},
   "outputs": [
    {
     "name": "stdout",
     "output_type": "stream",
     "text": [
      "ɸ = 6.3025559307771306e+29\n",
      "ɸ/N_avo의 값은 1046588.4973060662입니다.\n",
      "이렇게 값이 벌어졌다는 것은 개별의 입자들이 모두 다른 states에 존재하는 상황이 major하다는 것을 의미합니다.\n"
     ]
    }
   ],
   "source": [
    "import numpy as np\n",
    "\n",
    "# input values\n",
    "T = 300             # [K]\n",
    "k_B = 1.38 * 10**-23 # [J/K = N m / K = kg m/s**2 m/K = kg (m/s)**2 / K]\n",
    "m = 10**-25         # [kg]\n",
    "a = 0.1             # [m]\n",
    "h = 6.626*10**-34   # [m**2 kg/s]\n",
    "\n",
    "\n",
    "ɛ = 3/2 * k_B * T   # [J]\n",
    "\n",
    "ɸ = np.pi/6 * (8 * m * a**2 * ɛ / h**2)**(3/2) # [Dimensionless] ← 직접 확인해보세요.\n",
    "\n",
    "print(f\"ɸ = {ɸ}\")\n",
    "\n",
    "N_avo = 6.022*10**23 # Avogadro number\n",
    "\n",
    "result = ɸ / N_avo\n",
    "\n",
    "print(f\"ɸ/N_avo의 값은 {result}입니다.\")\n",
    "\n",
    "print(\"이렇게 값이 벌어졌다는 것은 개별의 입자들이 모두 다른 states에 존재하는 상황이 major하다는 것을 의미합니다.\")"
   ]
  },
  {
   "cell_type": "markdown",
   "metadata": {},
   "source": [
    "$\\omega(\\varepsilon)$을 잘 계산해보시면,\n",
    "\n",
    "$$\\omega(\\varepsilon) = \\frac{\\partial \\Phi(\\varepsilon)}{\\partial \\varepsilon} = \\alpha \\frac{\\partial \\varepsilon^{3/2}}{\\partial \\varepsilon} = \\frac{3}{2} \\alpha \\varepsilon^{1/2}$$\n",
    "\n",
    "$$\\alpha = \\frac{\\pi}{6} (8 m a^2 / h^2)^{3/2}$$\n"
   ]
  },
  {
   "cell_type": "markdown",
   "metadata": {},
   "source": [
    "이 됩니다.\n",
    "\n",
    "또한\n",
    "\n",
    "$$\\int_0^\\infty d\\varepsilon \\omega(\\varepsilon) e^{-\\beta \\varepsilon} = \\frac{a^3}{\\Lambda(T)^3} \\equiv \\frac{V}{\\Lambda(T)^3}$$\n",
    "\n",
    "이 되는데,(적분은 직접 계산해보세요!) 이 결과는 이전에 구했던 $q_{trans}(V,T)$의 결과와 같습니다.\n",
    "\n",
    "이러한 결과는 $(n_x,n_y,n_z)$ space에서 보던 translational space를 $\\varepsilon$으로 봐도 된다는 것을 의미하고, 3D의 문제를 1D로 줄여서 푸는 효과를 줍니다."
   ]
  },
  {
   "cell_type": "markdown",
   "metadata": {},
   "source": [
    "### 적분 hint\n",
    "\n",
    "1. \n",
    "$$\\int_0^\\infty x^{1/2} e^{-x} dx = \\int_0^\\infty 2k^2 e^{-k^2} dk$$\n",
    "\n",
    "$$(k \\equiv x^{1/2}, x^{1/2}dx = 2k^2 dk)$$\n",
    "\n",
    "2. \n",
    "$$\\int_0^\\infty k^2 e^{-\\alpha k^2} dk =  - \\frac {\\partial}{\\partial \\alpha} (\\int_0^\\infty e^{-\\alpha k^2} dk)$$"
   ]
  }
 ],
 "metadata": {
  "interpreter": {
   "hash": "e69bcb2cf846a92751550f10f7c7122ab68e4775a7df36529e8a81fa08090bb8"
  },
  "kernelspec": {
   "display_name": "Python 3.9.7 ('base')",
   "language": "python",
   "name": "python3"
  },
  "language_info": {
   "codemirror_mode": {
    "name": "ipython",
    "version": 3
   },
   "file_extension": ".py",
   "mimetype": "text/x-python",
   "name": "python",
   "nbconvert_exporter": "python",
   "pygments_lexer": "ipython3",
   "version": "3.9.7"
  },
  "orig_nbformat": 4
 },
 "nbformat": 4,
 "nbformat_minor": 2
}
