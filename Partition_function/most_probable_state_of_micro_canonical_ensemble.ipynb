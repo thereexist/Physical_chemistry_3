{
 "cells": [
  {
   "cell_type": "markdown",
   "metadata": {},
   "source": [
    "## Most probable state of micro canonical ensemble\n",
    "\n",
    "[![Hits](https://hits.seeyoufarm.com/api/count/incr/badge.svg?url=https%3A%2F%2Fgithub.com%2Fthereexist%2FPhysical_chemistry_3%2Fblob%2Fmain%2FPartition_function%2Fmost_probable_state_of_micro_canonical_ensemble.ipynb&count_bg=%2379C83D&title_bg=%23555555&icon=&icon_color=%23E7E7E7&title=hits&edge_flat=false)](https://hits.seeyoufarm.com)\n",
    "\n",
    "Canonical ensemble에 대해서 계산한 결과는 [**여기**](https://github.com/thereexist/Physical_chemistry_3/blob/main/Ensemble%20state/Canonical_ensemble.ipynb)에서 확인하세요.\n",
    "\n",
    "위의 설명에서 파티션에 대해 설명을 드렸는데요.\n",
    "\n",
    "이번에는 heat transfer가 불가능한 파티션을 생각해봅시다. 그리고 파티션으로 나눌때, 입자의 개수, 계의 부피, 계의 총 에너지량을 같게 해서 나눈다고 가정합시다.\n",
    "\n",
    "그렇게 된다면, 아래와 같은 multiplicity, constraint를 가지게 됩니다."
   ]
  },
  {
   "cell_type": "markdown",
   "metadata": {},
   "source": [
    "$$W= \\frac {N!}{\\prod_{i=1}^{r} N_i!}$$ \n",
    "\n",
    "$$\\sum_{i=1}^{r} N_i = N$$"
   ]
  },
  {
   "cell_type": "markdown",
   "metadata": {},
   "source": [
    "Multiplicity $W$가 constraint하에서 가지게 되는 \"constrained maximum\"은 Lagrange undetermined multiplier method 이용해 구할 수 있습니다."
   ]
  },
  {
   "cell_type": "markdown",
   "metadata": {},
   "source": [
    "$$\\mathcal{L}=\\ln W - \\alpha(\\sum_{i=1}^{r} N_i - N) \\cong N \\ln N - \\sum_{i=1}^r N_i \\ln N_i - \\alpha(\\sum_{i=1}^{r} N_i - N)$$\n"
   ]
  },
  {
   "cell_type": "markdown",
   "metadata": {},
   "source": [
    "$$(\\ \\frac{\\partial \\mathcal{L}}{\\partial N_i} )\\ _{N_i = N_i^*} = - \\ln N_i^* - 1 - \\alpha = 0$$"
   ]
  },
  {
   "cell_type": "markdown",
   "metadata": {},
   "source": [
    "$$\\therefore N_i^* = e^{-1-\\alpha}$$\n",
    "\n",
    "$$ \\sum_{i=1}^r N_i^* = r \\times e^{-1-\\alpha} = N$$\n",
    "\n",
    "$$\\therefore N_i^* = \\frac{N}{r}$$"
   ]
  },
  {
   "cell_type": "markdown",
   "metadata": {},
   "source": [
    "따라서 모든 state에 존재할 확률이 같게 됩니다. \n",
    "\n",
    "\"계의 총 Energy가 같은 microscopic state의 probability는 모두 같다.\"는 \"Principle of equal a priori probability\"와 유사한 결과가 나왔으나, \n",
    "\n",
    "\"Principle of equal a priori probability\"를 엄격하게 증명한 것은 아닙니다."
   ]
  }
 ],
 "metadata": {
  "language_info": {
   "name": "python"
  },
  "orig_nbformat": 4
 },
 "nbformat": 4,
 "nbformat_minor": 2
}
