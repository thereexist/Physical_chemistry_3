{
 "cells": [
  {
   "cell_type": "markdown",
   "metadata": {},
   "source": [
    "## Derivation of the Speed of Sound in Air\n",
    "\n",
    "[![Hits](https://hits.seeyoufarm.com/api/count/incr/badge.svg?url=https%3A%2F%2Fgithub.com%2Fthereexist%2FPhysical_chemistry_3%2Fblob%2Fmain%2FSpeed_of_sound%2FAdiabatic_process.ipynb&count_bg=%2379C83D&title_bg=%23555555&icon=&icon_color=%23E7E7E7&title=hits&edge_flat=false)](https://hits.seeyoufarm.com)\n",
    "\n",
    "김지현 교수님의 설명에 해당하는 그림이 잘 나온 자료를 하나 공유해드리고자 합니다. [**링크**](https://courses.lumenlearning.com/suny-osuniversityphysics/chapter/17-2-speed-of-sound/)"
   ]
  },
  {
   "cell_type": "markdown",
   "metadata": {},
   "source": [
    "## Adiabatic process\n",
    "\n",
    "Adiabatic process는 단열 팽창, 단열 압축의 경우를 의미합니다. \n",
    "\n",
    "단열의 의미는 $\\delta Q$가 0인 상황을 의미하며, 그렇기에, $dS \\equiv \\frac{\\delta Q_{rev}}{T}$ 의 조건을 만족하는 entropy는 변하지 않습니다.\n",
    "\n",
    "이상기체에서 adiabatic process가 발생하는 상황을 가정해봅시다. Adiabatic process가 일어나는 동안 이상기체의 내부 에너지는 다음과 같은 식을 만족합니다.\n",
    "\n",
    "$$dU = \\delta Q + \\delta W = \\delta W = -PdV$$\n",
    "\n",
    "즉, 외부에 해주는 일 $\\delta W$ 에 따라 내부 에너지가 변화하게 되는 겁니다.\n",
    "\n",
    "예를 들어, 단열 팽창을 하는 경우를 생각해봅시다.\n",
    "\n",
    "단열 팽창을 하게 되는 경우, 부피가 증가하기에 ($dV > 0$), 내부 에너지는 감소를 하게 됩니다. 즉, 온도가 떨어집니다.\n",
    "\n",
    "이런 경우는 일상생활 속에서도 쉽게 접할 수 있습니다. \n",
    "\n",
    "스프레이를 뿌리고 나면 스프레이 통이 차가워지고, 부탄가스를 쓰고 나면 부탄가스 통이 차가워지는 것을 보셨을 탠데요.\n",
    "\n",
    "위의 두 경우는 모두 급격한 팽창이 일어나는 경우이기 때문에 외부에서 열이 공급되지 못하고 팽창을 하는 경우에 해당됩니다. \n",
    "\n",
    "물론 완벽한 단열은 아니지만 한순간에는 거의 단열이 된다고 볼 수 있죠.\n",
    "\n",
    "![Alt text](./adiabatic.jpg)\n",
    "\n",
    "P-V diagram으로 본다면 위와 같은 그림으로 설명을 할 수 있습니다.\n",
    "\n",
    "이제, 위 그림의 초록색 선이 따르는 식을 구해봅시다.\n",
    "\n",
    "이상기체에서 기체의 내부 에너지 $U$는 다음과 같은 식으로 근사할 수 있습니다.\n",
    "\n",
    "$$U \\cong \\frac{f}{2} nRT$$\n",
    "\n",
    "이때 $f$는 분자당 자유도수(degrees of freedom)입니다.\n",
    "\n",
    "이전에 배우셨던대로 실온에서는 vibration의 degrees of freedom을 무시할 수 있기에, \n",
    "\n",
    "단원자(monatomic gas)의 경우 $f \\cong 3$, 이원분자(diatomic gas)의 경우 $f \\cong 5$로 볼 수 있습니다.\n",
    "\n",
    "위에서 쓴 식에 이를 대입해보면,\n",
    "\n",
    "$$dU = \\frac{f}{2} nR dT = -PdV$$\n",
    "\n",
    "의 식이 완성됩니다. 이 식에서 압축 또는 팽창이 진행되는 동안 온도와 부피가 변화하기에, 압력 또한 변화합니다. 이때 압력 $P$는 $T$와 $V$의 함수로 나타낼 수 있습니다.\n",
    "\n",
    "$$PV=nRT \\longrightarrow P=\\frac{nRT}{V}$$\n",
    "\n",
    "이를 대입한뒤 식을 정리해주면 다음과 같은 식을 얻을 수 있습니다.\n",
    "\n",
    "$$\\frac{f}{2} \\frac{dT}{T} = - \\frac{dV}{V}$$\n",
    "\n",
    "양변을 적분해주면,\n",
    "\n",
    "$$\\frac{f}{2} \\ln \\frac{T_f}{T_i} = - \\ln \\frac{V_f}{V_i}$$\n",
    "\n",
    "이고, (초기의 부피와 온도는 각각 $V_i$, $T_i$ 이고, 압축 또는 팽창 후의 부피와 온도는 각각 $V_f$, $T_f$ 입니다.)\n",
    "\n",
    "이를 조금 더 정리해주게 되면\n",
    "\n",
    "$$V_i {T_i}^{f/2} = V_f {T_f}^{f/2}$$\n",
    "\n",
    "로 정리가 되게 됩니다. 이 때 초기 조건(i)과 adiabatic process 이후의 조건(f)는 어떤 point이던지 상관이 없기에,\n",
    "\n",
    "$$V T^{f/2} \\equiv \\text{Constant}$$\n",
    "\n",
    "라고 쓸 수 있습니다.\n",
    "\n",
    "한편, 이를 압력과 부피의 식으로 정리를 할 수도 있습니다. $PV=nRT$의 이상기체 방정식을 이용해서 온도를 압력과 부피의 식으로 표기한 뒤 정리를 하게 되면\n",
    "\n",
    "$$PV^{\\gamma} \\equiv \\text{Constant}$$\n",
    "\n",
    "가 됩니다. 그리고 $\\gamma$는 $\\gamma = (f+2)/f$의 조건을 만족하게 됩니다."
   ]
  },
  {
   "cell_type": "markdown",
   "metadata": {},
   "source": [
    "-------------------------------------------------------------------------------------------\n",
    "\n",
    "수업시간에 음속을 계산하는 과정에서 Laplace가 Newton의 실수를 고쳤다는 이야기가 나왔습니다. \n",
    "\n",
    "소리가 진행할 때 매질인 공기는 소리의 진행방향에 대해 평행한 방향으로 팽창 또는 수축을 합니다. \n",
    "\n",
    "이는 fluid에서 소리는 종파(longitudinal wave)이기 때문이죠.\n",
    "\n",
    "Newton은 공기의 팽창 / 수축 과정을 isothermal process (온도가 고정된 상황)라고 생각했지만, Laplace는 이를 adiabatic process(열의 이동이 없다)로 봤습니다.\n",
    "\n",
    "이 둘의 결과는 큰 차이로 나타나게 됩니다."
   ]
  },
  {
   "cell_type": "markdown",
   "metadata": {},
   "source": [
    "$$\\left(\\frac{\\partial P}{\\partial \\rho_m} \\right)_T = \\left( \\frac{\\partial P}{\\partial V} \\right)_T \\left( \\frac{\\partial V}{\\partial \\rho_m} \\right)_T = \\left( \\frac{\\partial P}{\\partial V} \\right)_T \\times -\\frac{V^2}{m}$$\n",
    "\n",
    "$$\\left(\\frac{\\partial P}{\\partial \\rho_m} \\right)_S = \\left( \\frac{\\partial P}{\\partial V} \\right)_S \\left( \\frac{\\partial V}{\\partial \\rho_m} \\right)_S = \\left( \\frac{\\partial P}{\\partial V} \\right)_S \\times -\\frac{V^2}{m}$$"
   ]
  },
  {
   "cell_type": "markdown",
   "metadata": {},
   "source": [
    "이때 여기에서, $\\left( \\frac{\\partial P}{\\partial V} \\right)_T$ 와 $\\left( \\frac{\\partial P}{\\partial V} \\right)_S$ 에서 차이가 발생하게 되는데, \n",
    "\n",
    "1. Isothermal process인 경우,\n",
    "\n",
    "$$PV\\equiv \\text{Constant}$$\n",
    "\n",
    "이므로, 양변에 로그를 취하고 미분을 해주면\n",
    "\n",
    "$$\\longrightarrow d \\left( \\ln P + \\ln V \\right) = d \\left( \\text{Constant} \\right) = 0$$\n",
    "\n",
    "이 되고, 이 식을 정리해주면, \n",
    "\n",
    "$$\\longrightarrow \\frac{dP}{P} = - \\frac{dV}{V} \\longrightarrow \\frac{dP}{dV} = - \\frac{P}{V} = - \\frac{nRT}{V^2}$$\n",
    "\n",
    "이 됩니다.\n",
    "\n",
    "2. Adiabatic process인 경우,\n",
    "\n",
    "$$PV^\\gamma \\equiv \\text{Constant}$$\n",
    "\n",
    "이므로, 양변에 로그를 취하고 미분을 해주면\n",
    "\n",
    "$$\\longrightarrow d \\left( \\ln P + \\gamma \\ln V \\right) = d \\left( \\text{Constant} \\right) = 0$$\n",
    "\n",
    "이 되고, 이 식을 정리해주면, \n",
    "\n",
    "$$\\longrightarrow \\frac{dP}{P} = - \\gamma \\frac{dV}{V} \\longrightarrow \\frac{dP}{dV} = - \\gamma \\frac{P}{V} = - \\gamma \\frac{nRT}{V^2}$$\n",
    "\n",
    "이 됩니다.\n",
    "\n",
    "그렇기에, Newton의 풀이 결과와 Laplace의 풀이 결과는 \n",
    "\n",
    "$$C_s = \\sqrt{\\left( \\frac{\\partial P}{\\partial \\rho_m}\\right)_{S \\text{  or  }T}}$$\n",
    "\n",
    "에서 $\\sqrt{\\gamma}$ 만큼 차이가 나게 됩니다. Diatomic gas의 경우, 이 값은 $\\sqrt{\\gamma} = \\sqrt{1.4} \\cong 1.18$ 이기에, 미묘하지만 차이가 나게 됩니다."
   ]
  },
  {
   "cell_type": "code",
   "execution_count": 5,
   "metadata": {},
   "outputs": [
    {
     "name": "stdout",
     "output_type": "stream",
     "text": [
      "[Newton]: speed of sound is 290.84300568920906[m/s].\n",
      "\n",
      "[Laplace]: speed of sound is 344.1300852027713[m/s].\n",
      "\n",
      "Laplace is correct.\n"
     ]
    }
   ],
   "source": [
    "import numpy as np\n",
    "\n",
    "k_B = 1.38 * 10**-23 # [J/K = N m / K = kg m/s**2 m/K = kg (m/s)**2 / K]\n",
    "T = 273.15 + 20 # [K]\n",
    "N_avo = 6.022 * 10**23 # [1/mol]\n",
    "\n",
    "M_N2 = 28\n",
    "M_O2 = 32\n",
    "M_air = M_N2 * 0.8 + M_O2 * 0.2 # nitrogen 80%, oxygen 20% \n",
    "\n",
    "def mass(M_r): # molecular weight to mass per particle\n",
    "\n",
    "    # 분자량(M_r)을 넣어주면, 이 분자 하나 당 질량을 계산해 줍니다.\n",
    "\n",
    "    return M_r / N_avo * 10**-3 # 단위: [kg]\n",
    "\n",
    "f = 5 # diatomic, f_trans + f_rot\n",
    "\n",
    "C_s_Laplace = np.sqrt((f+2)/f * k_B*T / mass(M_air)) # inside sqrt, [J / kg = (m/s)**2]. Therefore, dimension of C_s is [m/s]\n",
    "\n",
    "C_s_Newton = np.sqrt(k_B*T / mass(M_air)) # inside sqrt, [J / kg = (m/s)**2]. Therefore, dimension of C_s is [m/s]\n",
    "\n",
    "\n",
    "print(f\"[Newton]: speed of sound is {C_s_Newton}[m/s].\\n\")\n",
    "\n",
    "print(f\"[Laplace]: speed of sound is {C_s_Laplace}[m/s].\\n\")\n",
    "\n",
    "print(\"Laplace is correct.\")"
   ]
  },
  {
   "cell_type": "markdown",
   "metadata": {},
   "source": [
    "-----------------------------------------------------------\n",
    "\n",
    "위의 설명은 수업에서 나온 식을 조금 다른 방식으로 풀어본 결과입니다.\n",
    "\n",
    "당연하게도, 결과는 같습니다.\n",
    "\n",
    "수업에서 나온 Jacobian의 개념은 1965년에 Carroll이 쓴 [**논문**](https://www.fuw.edu.pl/~pzdybel/carroll1965.pdf)과 wikipedia에서 [**Maxwell relations - Derivation based on Jacobians**](https://www.wikiwand.com/en/Maxwell_relations) 을 참조하시고 이해해보시면 좋을 것 같습니다.\n",
    "\n",
    "여기에서 $U$가 path independent한 값을 가지기 때문에, exact differential해야되고, 이로 인해,\n",
    "\n",
    "$$dU = TdS - PdV \\equiv f dS + g dV \\longrightarrow \\frac{\\partial f}{\\partial dV} = \\frac{\\partial g}{\\partial dS} \\longrightarrow J(T,S) = J(P,V)$$\n",
    "\n",
    "의 결과를 얻는 것이 중요해보이는데,, 어렵다고 생각이 되시면 skip 하셔도 좋습니다. (자세한 내용은 [**논문**](https://aapt.scitation.org/doi/10.1119/1.1989489)을 참조해주세요.)\n",
    "\n",
    "### 1. Jacobian matrix? determinant?\n",
    "\n",
    "이전에 수업에서 김지현 교수님이 $dxdy$를 $rdrd\\theta$로 변환해서 쓰거나(Gauss integral) $dxdydz$를 $r^2 \\sin \\theta dr d\\theta d\\phi$로 치환하는 것을 보셨을 것입니다.\n",
    "\n",
    "보면 $r$이나 $r^2 \\sin \\theta$와 같이 앞에 곱해지는 weight factor들이 생기는데요. 이러한 weight factor를 구할 때 매번 복잡한 기하학적 그림을 생각해야 될까요?\n",
    "\n",
    "그렇지 않습니다. 이 weight factor는 Jacobian matrix의 determinant로 쉽게 계산이 됩니다.\n",
    "\n",
    "예를 들어봅시다. $(u,v)$ 공간에 있는 직사각형을 생각해봅시다. \n",
    "\n",
    "직사각형의 각 꼭지점은 $(u_0,v_0)$, $(u_0 + d u,v_0)$, $(u_0,v_0  + d v)$, $(u_0  + d u ,v_0   + d v)$ 입니다.\n",
    "\n",
    "이때, $u$와 $v$가 $x$와 $y$의 함수로 표현이 가능하다고 합시다. 그렇다면 $u = u(x,y)$, $v= v(x,y)$로 표현이 가능할 것입니다.\n",
    "\n",
    "이 관계가 일대일 대응 관계라면 (하나의 $(x,y)$에 하나의 $(u,v)$ 만 대응이 된다면), $x = x(u,v)$, $y = y(u,v)$도 가능합니다.\n",
    "\n",
    "일대일 대응 관계로 되어있다고 합시다. 이 때 직사각형의 면적을 어떻게 계산하면 될까요?\n",
    "\n",
    "$(u,v)$ 공간에서 계산하면 쉽게 $dudv$ 라고 쓸 수도 있지만, 이는 \n",
    "\n",
    "$$|du \\hat{u} \\times dv \\hat{v}| = dudv$$ \n",
    "\n",
    "라는 외적의 식으로도 표현이 가능합니다.\n"
   ]
  },
  {
   "cell_type": "markdown",
   "metadata": {},
   "source": [
    "$(x,y)$ 공간에서 이 계산을 하게 되면 $(u,v)$ 공간에서 직사각형에 해당하는 평행사변형을 계산하게 될 것입니다. ($du$와 $dv$가 매우 작기에, 미소직사각형은 선형변환을 통해 평행 사변형이 됩니다.)\n",
    "\n",
    "이 평행사변형의 각 꼭지점은 $(u,v)$ 공간상 직사각형의 꼭지점들로 표현이 가능합니다.\n",
    "\n",
    "$$\\left[(x(u_0 + du, v_0) - x(u_0, v_0))\\hat{x} + (y(u_0 + du, v_0) - y(u_0, v_0))\\hat{y} \\right]\\times \\left[(x(u_0 + du, v_0) - x(u_0, v_0))\\hat{x} + (y(u_0, v_0 + dv) - y(u_0, v_0))\\hat{y} \\right] $$\n",
    "\n",
    "$$\\cong \\left[ \\frac{\\partial x}{\\partial u} du \\hat{x} + \\frac{\\partial y}{\\partial u} du \\hat{y} \\right] \\times \\left[ \\frac{\\partial x}{\\partial v} dv \\hat{x} + \\frac{\\partial y}{\\partial v} dv \\hat{y} \\right]$$\n",
    "\n",
    "라고 쓸 수 있게 됩니다.\n"
   ]
  },
  {
   "cell_type": "markdown",
   "metadata": {},
   "source": [
    "이 계산을 하게 되면 (외적 계산을 기억하고 있으실거라고 믿고...)\n",
    "\n",
    "$$=\\left(\\frac{\\partial x}{\\partial u} \\frac{\\partial y}{\\partial v} - \\frac{\\partial y}{\\partial u}\\frac{\\partial x}{\\partial v} \\right) dudv$$\n",
    "\n",
    "가 됩니다."
   ]
  },
  {
   "cell_type": "markdown",
   "metadata": {},
   "source": [
    "이때 괄호에 들어간 값이 바로 Jacobian matrix의 determinant값입니다.\n",
    "\n",
    "이 값이 의미하는 바는 다음과 같습니다.\n",
    "\n",
    "> $(u,v)$ 공간내에서의 미소면적 $dudv$는 $(x,y)$ 공간에서 Jacobian matrix의 determinant만큼 배로 불어난다. \n",
    "\n",
    "그렇다면 $(x,y)$ 공간내에서의 적분을 $(u,v)$ 공간에서 하게 될 경우, Jacobian matrix의 determinant만큼 곱을 해줘야 정확한 면적이 나오게 될 것입니다."
   ]
  },
  {
   "cell_type": "markdown",
   "metadata": {},
   "source": [
    "저보다 이에 대해 다양한 시각적 방법으로 이를 설명한 분이 계십니다. [**이 포스트**](https://angeloyeo.github.io/2020/07/24/Jacobian.html)를 읽어주시면 될 것 같습니다.\n",
    "\n",
    "특히 $(x,y)$ 공간에서 원으로 표현되는 면적이 $(r,\\theta)$ 공간에서는 직사각형으로 표현된다는 부분을 잘 보시고 이해를 했으면 좋겠습니다.\n",
    "\n",
    "다른방식으로 설명을 드리자면, $du$와 $dv$는\n",
    "\n",
    "$$du = \\frac{\\partial u}{\\partial x} dx + \\frac{\\partial u}{\\partial y} dy$$\n",
    "\n",
    "$$dv = \\frac{\\partial v}{\\partial x} dx + \\frac{\\partial v}{\\partial y} dy$$\n",
    "\n",
    "와 같은 식을 만족하게 되고, 이를 matrix로 정리하게 되면, \n",
    "\n",
    "$$\\begin{pmatrix} du \\\\ dv \\end{pmatrix} = \\begin{pmatrix} \\left(\\partial u/ \\partial x\\right)_y & \\left(\\partial u / \\partial y\\right)_x \\\\ \\left(\\partial v / \\partial x\\right)_y & \\left(\\partial v / \\partial y\\right)_x \\end{pmatrix} \\begin{pmatrix} dx \\\\ dy \\end{pmatrix} $$\n",
    "\n",
    "가 되고, 이때 $2 \\times 2$ matrix가 바로 Jacobian matrix 입니다.\n",
    "\n",
    "이 matrix의 determinant를\n",
    "\n",
    "$$\\begin{vmatrix} \\left(\\partial u/ \\partial x\\right)_y & \\left(\\partial u / \\partial y\\right)_x \\\\ \\left(\\partial v / \\partial x\\right)_y & \\left(\\partial v / \\partial y\\right)_x \\end{vmatrix} \\equiv \\frac{\\partial(u,v)}{\\partial(x,y)}$$\n",
    "\n",
    "라고 간단하게 표현하기도 합니다. 이 형태가 수업시간에 보신 표현식입니다.\n",
    "\n",
    "....\n",
    "\n",
    "설명을 하다보니 잘 설명이 안되는게, 저도 Jacobian을 정확하게 이해한건지, 걱정이 됩니다. 잘 이해했다면, 좀 더 설명이 잘 되었을탠데... 윗부분은 이후에 보완을 하도록 하겠습니다.\n",
    "\n",
    "\n",
    "\n",
    "### 2. Properties of Jacobian determinant\n",
    "\n",
    "- 편미분을 Jacobian matrix의 determinant로 표현하는 것이 가능합니다.\n",
    "\n",
    "$$\\left( \\frac{\\partial y}{\\partial x} \\right)_z = \\frac{\\partial(y,z)} {\\partial(x,z)}$$\n",
    "\n",
    "이는 Jacobian matrix의 determinant를 직접 해보면 이해하실 수 있을 것입니다.\n",
    "\n",
    "$$\\frac{\\partial(y,z)} {\\partial(x,z)} = \\begin{vmatrix} \\left(\\partial y/ \\partial x\\right)_z & \\left(\\partial y / \\partial z\\right)_x \\\\ \\left(\\partial z / \\partial x\\right)_z & \\left(\\partial z / \\partial z\\right)_x \\end{vmatrix} = \\begin{vmatrix} \\left(\\partial y/ \\partial x\\right)_z & \\left(\\partial y / \\partial z\\right)_x \\\\ 0 & 1 \\end{vmatrix} = \\left( \\frac{\\partial y}{\\partial x} \\right)_z $$\n",
    "\n",
    "- Jacobian determinant에서 분자와 분모의 변수 순서를 바꾸면 부호가 바뀝니다.\n",
    "\n",
    "$$\\frac{\\partial(v,u)}{\\partial(x,y)} = \\frac{\\partial(u,v)}{\\partial(y,x)} = -\\frac{\\partial(u,v)}{\\partial(x,y)}$$\n",
    "\n",
    "- chain rule과 비슷한 형태의 식을 사용할 수 있습니다.\n",
    "\n",
    "$$\\frac{\\partial(u,v)} {\\partial(x,y)} = \\frac{\\partial(u,v) / \\partial(\\alpha,\\beta)} {\\partial(x,y) / \\partial(\\alpha,\\beta)}$$\n",
    "\n",
    "\n",
    "\n",
    "Jacobian determinant가 어디서 생겼는지에 대한 설명이 이해가 잘 안되시더라도, 위의 properties는 쉽게 증명하실 수 있을 것이라고 생각을 합니다.\n",
    "\n",
    "그리고 저 2가지 성질을 활용해서 수업시간에 speed of sound를 계산하는데 사용이 되었다고 보시면 될 것 같습니다."
   ]
  },
  {
   "cell_type": "markdown",
   "metadata": {},
   "source": [
    "-------------------------------------------\n",
    "\n",
    "### 온도에 따른 소리의 속도 계산"
   ]
  },
  {
   "cell_type": "code",
   "execution_count": 8,
   "metadata": {},
   "outputs": [
    {
     "data": {
      "image/png": "[encoded data removed]",
      "text/plain": [
       "<Figure size 576x432 with 1 Axes>"
      ]
     },
     "metadata": {
      "needs_background": "light"
     },
     "output_type": "display_data"
    }
   ],
   "source": [
    "import matplotlib.pyplot as plt\n",
    "\n",
    "T_array = np.linspace(200,2000)\n",
    "\n",
    "def C_s(T):\n",
    "    return np.sqrt((f+2)/f * k_B*T / mass(M_air))\n",
    "\n",
    "speed_array = C_s(T_array)\n",
    "\n",
    "plt.figure(figsize = (8,6))\n",
    "plt.plot(T_array, speed_array, 'k', label = \"Theoretical prediction\", lw = 4)\n",
    "plt.xlabel(r\"$T (K)$\",fontsize = 15)\n",
    "plt.ylabel(r\"$C_s (m/s)$\",fontsize = 15)\n",
    "plt.xticks(fontsize = 15)\n",
    "plt.yticks(fontsize = 15)\n",
    "plt.legend(fontsize = 15)\n",
    "plt.show()"
   ]
  },
  {
   "cell_type": "markdown",
   "metadata": {},
   "source": [
    "온도가 높으면 소리의 속도가 빨라진다는 것을 알 수 있습니다.\n",
    "\n",
    "온도에 따른 소리의 속도 차로 인해, 소리의 전파는 굴절이 됩니다.\n",
    "\n",
    "이를 알았는지는 모르지만, 조상님들은 이런 속담을 남겼죠.\n",
    "\n",
    "> 낮말은 새가 듣고 밤말은 쥐가 듣는다.\n",
    "\n",
    "![Alt text](./day_speech_bird_night_speech_mouse.jpg)\n",
    "\n",
    "이는 과학적으로도 어느정도 일리가 있는 말입니다."
   ]
  },
  {
   "cell_type": "markdown",
   "metadata": {},
   "source": []
  }
 ],
 "metadata": {
  "interpreter": {
   "hash": "e69bcb2cf846a92751550f10f7c7122ab68e4775a7df36529e8a81fa08090bb8"
  },
  "kernelspec": {
   "display_name": "Python 3.9.7 ('base')",
   "language": "python",
   "name": "python3"
  },
  "language_info": {
   "codemirror_mode": {
    "name": "ipython",
    "version": 3
   },
   "file_extension": ".py",
   "mimetype": "text/x-python",
   "name": "python",
   "nbconvert_exporter": "python",
   "pygments_lexer": "ipython3",
   "version": "3.9.7"
  },
  "orig_nbformat": 4
 },
 "nbformat": 4,
 "nbformat_minor": 2
}
