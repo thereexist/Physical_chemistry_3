{
 "cells": [
  {
   "cell_type": "markdown",
   "metadata": {},
   "source": [
    "## Derivation of the Speed of Sound in Air\n",
    "\n",
    "[![Hits](https://hits.seeyoufarm.com/api/count/incr/badge.svg?url=https%3A%2F%2Fgithub.com%2Fthereexist%2FPhysical_chemistry_3%2Fblob%2Fmain%2FSpeed_of_sound%2FAdiabatic_process.ipynb&count_bg=%2379C83D&title_bg=%23555555&icon=&icon_color=%23E7E7E7&title=hits&edge_flat=false)](https://hits.seeyoufarm.com)\n",
    "\n",
    "김지현 교수님의 설명에 해당하는 그림이 잘 나온 자료를 하나 공유해드리고자 합니다. [**링크**](https://courses.lumenlearning.com/suny-osuniversityphysics/chapter/17-2-speed-of-sound/)"
   ]
  },
  {
   "cell_type": "markdown",
   "metadata": {},
   "source": [
    "## Adiabatic process\n",
    "\n",
    "Adiabatic process는 단열 팽창, 단열 압축의 경우를 의미합니다. \n",
    "\n",
    "단열의 의미는 $\\delta Q$가 0인 상황을 의미하며, 그렇기에, $dS \\equiv \\frac{\\delta Q_{rev}}{T}$ 의 조건을 만족하는 entropy는 변하지 않습니다.\n",
    "\n",
    "이상기체에서 adiabatic process가 발생하는 상황을 가정해봅시다. Adiabatic process가 일어나는 동안 이상기체의 내부 에너지는 다음과 같은 식을 만족합니다.\n",
    "\n",
    "$$dU = \\delta Q + \\delta W = \\delta W = -PdV$$\n",
    "\n",
    "즉, 외부에 해주는 일 $\\delta W$ 에 따라 내부 에너지가 변화하게 되는 겁니다.\n",
    "\n",
    "예를 들어, 단열 팽창을 하는 경우를 생각해봅시다.\n",
    "\n",
    "단열 팽창을 하게 되는 경우, 부피가 증가하기에 ($dV > 0$), 내부 에너지는 감소를 하게 됩니다. 즉, 온도가 떨어집니다.\n",
    "\n",
    "이런 경우는 일상생활 속에서도 쉽게 접할 수 있습니다. \n",
    "\n",
    "스프레이를 뿌리고 나면 스프레이 통이 차가워지고, 부탄가스를 쓰고 나면 부탄가스 통이 차가워지는 것을 보셨을 탠데요.\n",
    "\n",
    "위의 두 경우는 모두 급격한 팽창이 일어나는 경우이기 때문에 외부에서 열이 공급되지 못하고 팽창을 하는 경우에 해당됩니다. \n",
    "\n",
    "물론 완벽한 단열은 아니지만 한순간에는 거의 단열이 된다고 볼 수 있죠.\n",
    "\n",
    "![Alt text](./adiabatic.jpg)\n",
    "\n",
    "P-V diagram으로 본다면 위와 같은 그림으로 설명을 할 수 있습니다.\n",
    "\n",
    "이제, 위 그림의 초록색 선이 따르는 식을 구해봅시다.\n",
    "\n",
    "이상기체에서 기체의 내부 에너지 $U$는 다음과 같은 식으로 근사할 수 있습니다.\n",
    "\n",
    "$$U \\cong \\frac{f}{2} nRT$$\n",
    "\n",
    "이때 $f$는 분자당 자유도수(degrees of freedom)입니다.\n",
    "\n",
    "이전에 배우셨던대로 실온에서는 vibration의 degrees of freedom을 무시할 수 있기에, \n",
    "\n",
    "단원자(monatomic gas)의 경우 $f \\cong 3$, 이원분자(diatomic gas)의 경우 $f \\cong 5$로 볼 수 있습니다.\n",
    "\n",
    "위에서 쓴 식에 이를 대입해보면,\n",
    "\n",
    "$$dU = \\frac{f}{2} nR dT = -PdV$$\n",
    "\n",
    "의 식이 완성됩니다. 이 식에서 압축 또는 팽창이 진행되는 동안 온도와 부피가 변화하기에, 압력 또한 변화합니다. 이때 압력 $P$는 $T$와 $V$의 함수로 나타낼 수 있습니다.\n",
    "\n",
    "$$PV=nRT \\longrightarrow P=\\frac{nRT}{V}$$\n",
    "\n",
    "이를 대입한뒤 식을 정리해주면 다음과 같은 식을 얻을 수 있습니다.\n",
    "\n",
    "$$\\frac{f}{2} \\frac{dT}{T} = - \\frac{dV}{V}$$\n",
    "\n",
    "양변을 적분해주면,\n",
    "\n",
    "$$\\frac{f}{2} \\ln \\frac{T_f}{T_i} = - \\ln \\frac{V_f}{V_i}$$\n",
    "\n",
    "이고, (초기의 부피와 온도는 각각 $V_i$, $T_i$ 이고, 압축 또는 팽창 후의 부피와 온도는 각각 $V_f$, $T_f$ 입니다.)\n",
    "\n",
    "이를 조금 더 정리해주게 되면\n",
    "\n",
    "$$V_i {T_i}^{f/2} = V_f {T_f}^{f/2}$$\n",
    "\n",
    "로 정리가 되게 됩니다. 이 때 초기 조건(i)과 adiabatic process 이후의 조건(f)는 어떤 point이던지 상관이 없기에,\n",
    "\n",
    "$$V T^{f/2} \\equiv \\text{Constant}$$\n",
    "\n",
    "라고 쓸 수 있습니다.\n",
    "\n",
    "한편, 이를 압력과 부피의 식으로 정리를 할 수도 있습니다. $PV=nRT$의 이상기체 방정식을 이용해서 온도를 압력과 부피의 식으로 표기한 뒤 정리를 하게 되면\n",
    "\n",
    "$$PV^{\\gamma} \\equiv \\text{Constant}$$\n",
    "\n",
    "가 됩니다. 그리고 $\\gamma$는 $\\gamma = (f+2)/f$의 조건을 만족하게 됩니다."
   ]
  },
  {
   "cell_type": "markdown",
   "metadata": {},
   "source": [
    "수업시간에 음속을 계산하는 과정에서 Laplace가 Newton의 실수를 고쳤다는 이야기가 나왔습니다. \n",
    "\n",
    "Newton의 경우 소리의 진행을 isothermal (온도가 고정된 상황) 하다고 생각했지만, Laplace는 adiabatic (열의 이동이 없다)하다고 봤습니다.\n",
    "\n",
    "이 둘의 결과는 큰 차이로 나타나게 됩니다."
   ]
  },
  {
   "cell_type": "markdown",
   "metadata": {},
   "source": [
    "$$\\left(\\frac{\\partial P}{\\partial \\rho_m} \\right)_T = \\left( \\frac{\\partial P}{\\partial V} \\right)_T \\left( \\frac{\\partial V}{\\partial \\rho_m} \\right)_T = \\left( \\frac{\\partial P}{\\partial V} \\right)_T \\times -\\frac{V^2}{m}$$\n",
    "\n",
    "$$\\left(\\frac{\\partial P}{\\partial \\rho_m} \\right)_S = \\left( \\frac{\\partial P}{\\partial V} \\right)_S \\left( \\frac{\\partial V}{\\partial \\rho_m} \\right)_S = \\left( \\frac{\\partial P}{\\partial V} \\right)_S \\times -\\frac{V^2}{m}$$"
   ]
  },
  {
   "cell_type": "markdown",
   "metadata": {},
   "source": [
    "이때 여기에서, $\\left( \\frac{\\partial P}{\\partial V} \\right)_T$ 와 $\\left( \\frac{\\partial P}{\\partial V} \\right)_S$ 에서 차이가 발생하게 되는데, \n",
    "\n",
    "1. Isothermal process인 경우,\n",
    "\n",
    "$$PV\\equiv \\text{Constant}$$\n",
    "\n",
    "이므로, 양변에 로그를 취하고 미분을 해주면\n",
    "\n",
    "$$\\longrightarrow d \\left( \\ln P + \\ln V \\right) = d \\left( \\text{Constant} \\right) = 0$$\n",
    "\n",
    "이 되고, 이 식을 정리해주면, \n",
    "\n",
    "$$\\longrightarrow \\frac{dP}{P} = - \\frac{dV}{V} \\longrightarrow \\frac{dP}{dV} = - \\frac{P}{V} = - \\frac{nRT}{V^2}$$\n",
    "\n",
    "이 됩니다.\n",
    "\n",
    "2. Adiabatic process인 경우,\n",
    "\n",
    "$$PV^\\gamma \\equiv \\text{Constant}$$\n",
    "\n",
    "이므로, 양변에 로그를 취하고 미분을 해주면\n",
    "\n",
    "$$\\longrightarrow d \\left( \\ln P + \\gamma \\ln V \\right) = d \\left( \\text{Constant} \\right) = 0$$\n",
    "\n",
    "이 되고, 이 식을 정리해주면, \n",
    "\n",
    "$$\\longrightarrow \\frac{dP}{P} = - \\gamma \\frac{dV}{V} \\longrightarrow \\frac{dP}{dV} = - \\gamma \\frac{P}{V} = - \\gamma \\frac{nRT}{V^2}$$\n",
    "\n",
    "이 됩니다.\n",
    "\n",
    "그렇기에, Newton의 풀이 결과와 Laplace의 풀이 결과는 \n",
    "\n",
    "$$C_s = \\sqrt{\\left( \\frac{\\partial P}{\\partial \\rho_m}\\right)_{S \\text{  or  }T}}$$\n",
    "\n",
    "에서 $\\sqrt{\\gamma}$ 만큼 차이가 나게 됩니다. Diatomic gas의 경우, 이 값은 $\\sqrt{\\gamma} = \\sqrt{1.4} \\cong 1.18$ 이기에, 미묘하지만 차이가 나게 됩니다."
   ]
  },
  {
   "cell_type": "code",
   "execution_count": 4,
   "metadata": {},
   "outputs": [
    {
     "name": "stdout",
     "output_type": "stream",
     "text": [
      "[Newton]: speed of sound is $290.84300568920906[m/s].\n",
      "\n",
      "[Laplace]: speed of sound is $344.1300852027713[m/s].\n",
      "\n",
      "Laplace is correct.\n"
     ]
    }
   ],
   "source": [
    "import numpy as np\n",
    "\n",
    "k_B = 1.38 * 10**-23 # [J/K = N m / K = kg m/s**2 m/K = kg (m/s)**2 / K]\n",
    "T = 273.15 + 20 # [K]\n",
    "N_avo = 6.022 * 10**23 # [1/mol]\n",
    "\n",
    "M_N2 = 28\n",
    "M_O2 = 32\n",
    "M_air = M_N2 * 0.8 + M_O2 * 0.2 # nitrogen 80%, oxygen 20% \n",
    "\n",
    "def mass(M_r): # molecular weight to mass per particle\n",
    "\n",
    "    # 분자량(M_r)을 넣어주면, 이 분자 하나 당 질량을 계산해 줍니다.\n",
    "\n",
    "    return M_r / N_avo * 10**-3 # 단위: [kg]\n",
    "\n",
    "f = 5 # diatomic, f_trans + f_rot\n",
    "\n",
    "C_s_Laplace = np.sqrt((f+2)/f * k_B*T / mass(M_air)) # inside sqrt, [J / kg = (m/s)**2]. Therefore, dimension of C_s is [m/s]\n",
    "\n",
    "C_s_Newton = np.sqrt(k_B*T / mass(M_air)) # inside sqrt, [J / kg = (m/s)**2]. Therefore, dimension of C_s is [m/s]\n",
    "\n",
    "\n",
    "print(f\"[Newton]: speed of sound is ${C_s_Newton}[m/s].\\n\")\n",
    "\n",
    "print(f\"[Laplace]: speed of sound is ${C_s_Laplace}[m/s].\\n\")\n",
    "\n",
    "print(\"Laplace is correct.\")"
   ]
  },
  {
   "cell_type": "markdown",
   "metadata": {},
   "source": [
    "-----------------------------------------------------------\n",
    "\n",
    "위의 설명은 수업에서 나온 식을 조금 다른 방식으로 풀어본 결과입니다.\n",
    "\n",
    "당연하게도, 결과는 같습니다.\n",
    "\n",
    "수업에서 나온 Jacobian의 개념은 1965년에 Carroll이 쓴 [**논문**](https://www.fuw.edu.pl/~pzdybel/carroll1965.pdf)과 wikipedia에서 [**Maxwell relations - Derivation based on Jacobians**](https://www.wikiwand.com/en/Maxwell_relations) 을 참조하시고 이해해보시면 좋을 것 같습니다.\n",
    "\n",
    "여기에서 $U$가 path independent한 값을 가지기 때문에, exact differential해야되고, 이로 인해,\n",
    "\n",
    "$$dU = TdS - PdV \\equiv f dS + g dV \\longrightarrow \\frac{\\partial f}{\\partial dV} = \\frac{\\partial g}{\\partial dS} \\longrightarrow J(T,S) = J(P,V)$$\n",
    "\n",
    "의 결과를 얻는 것이 중요해보이는데,, 어렵다고 생각이 되시면 skip 하셔도 좋습니다. (자세한 내용은 [**논문**](https://aapt.scitation.org/doi/10.1119/1.1989489)을 참조해주세요.)"
   ]
  },
  {
   "cell_type": "markdown",
   "metadata": {},
   "source": []
  },
  {
   "cell_type": "markdown",
   "metadata": {},
   "source": []
  }
 ],
 "metadata": {
  "interpreter": {
   "hash": "e69bcb2cf846a92751550f10f7c7122ab68e4775a7df36529e8a81fa08090bb8"
  },
  "kernelspec": {
   "display_name": "Python 3.9.7 ('base')",
   "language": "python",
   "name": "python3"
  },
  "language_info": {
   "codemirror_mode": {
    "name": "ipython",
    "version": 3
   },
   "file_extension": ".py",
   "mimetype": "text/x-python",
   "name": "python",
   "nbconvert_exporter": "python",
   "pygments_lexer": "ipython3",
   "version": "3.9.7"
  },
  "orig_nbformat": 4
 },
 "nbformat": 4,
 "nbformat_minor": 2
}
