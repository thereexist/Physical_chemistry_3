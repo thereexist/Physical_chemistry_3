{
 "cells": [
  {
   "cell_type": "markdown",
   "metadata": {},
   "source": [
    "# HF chemical laser\n",
    "\n",
    "(a) Estimate the bond dissociation energy of $H_2$.\n",
    "\n",
    "HF chemical laser에 대한 화학 반응은 아래와 같습니다.\n",
    "\n",
    "![Alt text](./HF_laser.png)\n",
    "\n",
    "- (1) 반응을 통해 $D_{e, F_2}$는 159 [kJ / mol] 로 예측이 가능합니다. - (ㄱ)\n",
    "\n",
    "- (2) 반응에서는 $H_2$가 분해되고, $HF$가 생성이 됩니다. 이 반응을 통해 $D_{e, H_2} - D_{e, HF} $ = -134 [kJ / mol] 로 예측이 가능합니다. - (ㄴ)\n",
    "\n",
    "- (3) 반응에서는 $F_2$가 분해되고, $HF$가 생성이 됩니다. 이 반응을 통해 $D_{e, F_2} - D_{e, HF} $ = -411 [kJ / mol] 로 예측이 가능합니다. - (ㄷ)\n",
    "\n",
    "위의 결과를 종합하면, $D_{e, H_2}$를 예측할 수 있습니다.\n",
    "\n",
    "(ㄴ) - (ㄷ) + (ㄱ) = $D_{e, H_2}$ = -134 + 411 + 159 = 436 [kJ / mol]\n",
    "\n",
    "이 결과를 보면 $H_2$를 쪼개는데 필요한 energy가 $F_2$를 쪼개는데 드는 energy의 3배 이상이라는 사실을 알 수 있습니다.\n",
    "\n",
    "energy적인 관점으로 봤을 때, $H_2$를 physical collision을 통해 dissociation을 하는 것은 매우 멍청한 짓이라고 볼 수 있습니다.\n",
    "\n",
    "그렇기에, 이 반응은 위의 화학 반응에 나타나지 않는 반응입니다."
   ]
  },
  {
   "cell_type": "markdown",
   "metadata": {},
   "source": [
    "(b) Derive the rate law for $d[HF] / dt$ for the above mechanism assuming that the steady-state approximation can be applied to both intermediate species, F(g) and H(g).\n",
    "\n",
    "Steady state approximation을 활용해봅시다.\n",
    "\n",
    "1. $$\\frac{d[H]}{dt} = k_2[F][H_2] - k_{-2} [HF][H] - k_3[H][F_2] = 0 $$\n",
    "\n",
    "2. $$\\frac{d[F]}{dt} = -k_2[F][H_2] + k_{-2} [HF][H] + k_3[H][F_2] + 2(k_1[F_2][M] - k_{-1}[F]^2[M]) = - \\frac{d[H]}{dt} + 2(k_1[F_2] - k_{-1}[F]^2)[M] = 0 $$\n"
   ]
  },
  {
   "cell_type": "markdown",
   "metadata": {},
   "source": [
    "이 두가지를 활용하게 되면,\n",
    "\n",
    "$$\\text{Eq.(2) } \\longrightarrow [F] = \\sqrt{\\frac{k_1}{k_{-1}}[F_2]}$$\n",
    "\n",
    "$$\\text{Eq.(1) with Eq.(2)} \\longrightarrow [H] = \\frac{k_2 [H_2]}{k_3[F_2] + k_{-2}[HF]} \\sqrt{\\frac{k_1}{k_{-1}}[F_2]}$$\n",
    "\n",
    "을 얻을 수 있습니다.\n",
    "\n",
    "이 두가지 결과를 \n",
    "\n",
    "$$\\frac{d[HF]}{dt} = k_2 [F][H_2] - k_{-2}[HF][H] + k_3[H][F_2]$$\n",
    "\n",
    "에 대입하면 결과를 얻을 수 있습니다... (Do it yourself!)\n",
    "\n",
    "결과를 보면 $[HF]$가 증가하게 되면 $[HF]$의 생성 속도는 감소한다는 사실을 알 수 있습니다.\n",
    "\n",
    "(2)번 반응이 exothermic reaction이기에, 온도를 계속해서 낮춰준다면, (2)번 과정의 역반응을 막아줄 수 있을 것으로 예상할 수 있다."
   ]
  },
  {
   "cell_type": "markdown",
   "metadata": {},
   "source": [
    "(c) Determine the maximally allowed vibrational quantum numbers of HF produced by the cold reaction and the hot reaction, respectively.\n",
    "\n",
    "Hint 1) 을 생각해본다면, Translational energy는 반응 전후가 같기에 무시가 가능합니다.\n",
    "\n",
    "Assumption i)를 생각해본다면, rotational energy와 electronic states는 모두 바닥상태입니다. rotational energy의 바닥 상태는 0입니다. 즉, $D_e$만 고려를 하면 됩니다.\n",
    "\n",
    "Assumption ii)를 생각한다면, vibrational energy는 바닥 상태를 생각하면 됩니다. 단, vibrational energy의 바닥 상태는 0이 아니라는 것을 유의해야 됩니다.\n",
    "\n",
    "이를 고려했을 때, 다음과 같은 식을 쓸 수 있습니다.\n",
    "\n",
    "1. Cold reaction\n",
    "\n",
    "$$\\frac{1}{2}hc \\tilde{\\nu}_{H_2} = \\triangle_r H_C^\\circ + \\frac{1}{2} (2n_C + 1) hc \\tilde{\\nu}_{HF} $$\n",
    "\n",
    "2. Hot reaction\n",
    "\n",
    "$$\\frac{1}{2}hc \\tilde{\\nu}_{F_2} = \\triangle_r H_H^\\circ + \\frac{1}{2} (2n_H + 1) hc \\tilde{\\nu}_{HF} $$\n",
    "\n",
    "여기에서 $n_C$와 $n_H$는 각각의 반응에서 허용되는 highest vibrational quantum state입니다.\n",
    "\n",
    "또한 $\\triangle_r H_C^\\circ$와 $\\triangle_r H_H^\\circ$는 각 반응에 대한 enthalphy 변화량입니다. \n",
    "\n",
    "이는 각각 mol당 -134 [kJ/mol], -411 [kJ/mol]의 값을 갖으나, 다른 값들은 [J]의 단위로 표현이 되고 있으니, 단위환산을 해줘야 됩니다."
   ]
  },
  {
   "cell_type": "code",
   "execution_count": 2,
   "metadata": {},
   "outputs": [
    {
     "name": "stdout",
     "output_type": "stream",
     "text": [
      "Cold reaction에서 허용되는 highest vibrational quantum state는 ν = 2.0 입니다.\n",
      "Hot reaction에서 허용되는 highest vibrational quantum state는 ν = 7.0 입니다.\n",
      "\n",
      "\n",
      " ν = 0 에서부터 highest vibrational state까지 개수를 새어주면 그것이 바로 maximally allowed quantum numbers가 됩니다. 즉 .. \n",
      "\n",
      "\n",
      "Cold reaction에서 허용되는 maximally allowed vibrational quantum number는 3.0 입니다.\n",
      "Hot reaction에서 허용되는 maximally allowed vibrational quantum number는 8.0 입니다.\n"
     ]
    }
   ],
   "source": [
    "import numpy as np\n",
    "\n",
    "#constant values\n",
    "k_B = 1.38 * 10**-23 # [J/K = N m / K = kg m/s**2 m/K = kg (m/s)**2 / K]\n",
    "h = 6.626*10**-34   # [m**2 kg/s]\n",
    "c = 299792458 # [m / s]\n",
    "N_avo = 6.022 * 10**23 # [ / mol]\n",
    "\n",
    "ν_H2 = 4401.21 * 10**2 # [m**-1]\n",
    "ν_F2 = 916.64  * 10**2 # [m**-1]\n",
    "ν_HF = 4138.32 * 10**2 # [m**-1]\n",
    "\n",
    "ΔH_C = -134 * 10**3 / N_avo # [J]\n",
    "ΔH_H = -411 * 10**3 / N_avo # [J]\n",
    "\n",
    "\n",
    "n_C = (((1/2 * h * c * ν_H2 - ΔH_C) / (1/2 * h * c * ν_HF) - 1 ) // 2)\n",
    "n_H = (((1/2 * h * c * ν_F2 - ΔH_H) / (1/2 * h * c * ν_HF) - 1 ) // 2)\n",
    "\n",
    "print(f\"Cold reaction에서 허용되는 highest vibrational quantum state는 ν = {n_C} 입니다.\")\n",
    "print(f\"Hot reaction에서 허용되는 highest vibrational quantum state는 ν = {n_H} 입니다.\")\n",
    "\n",
    "print(\"\\n\\n ν = 0 에서부터 highest vibrational state까지 개수를 새어주면 그것이 바로 maximally allowed quantum numbers가 됩니다. 즉 .. \\n\\n\")\n",
    "\n",
    "print(f\"Cold reaction에서 허용되는 maximally allowed vibrational quantum number는 {n_C + 1} 입니다.\")\n",
    "print(f\"Hot reaction에서 허용되는 maximally allowed vibrational quantum number는 {n_H + 1} 입니다.\")"
   ]
  },
  {
   "cell_type": "markdown",
   "metadata": {},
   "source": [
    "(d) Estimate the wavelength of the chemical laser in μm\n",
    "\n",
    "이 결과는, $1 / \\lambda = \\tilde{\\nu}$ 라는 조건을 생각하면 단순 계산입니다. 계산은 python으로 계산해봤습니다."
   ]
  },
  {
   "cell_type": "code",
   "execution_count": 4,
   "metadata": {},
   "outputs": [
    {
     "name": "stdout",
     "output_type": "stream",
     "text": [
      "wavenumber of HF laser is 4138.32 [cm**-1]\n",
      "wavelength of HF laser is 2.4164395213516596 [μm].\n"
     ]
    }
   ],
   "source": [
    "result = ν_HF ** -1 * 10**6 # [μm]\n",
    "\n",
    "print(f\"wavenumber of HF laser is {ν_HF * 10**-2} [cm**-1]\")\n",
    "\n",
    "print(f\"wavelength of HF laser is {result} [μm].\")"
   ]
  },
  {
   "cell_type": "code",
   "execution_count": null,
   "metadata": {},
   "outputs": [],
   "source": []
  }
 ],
 "metadata": {
  "interpreter": {
   "hash": "809855cf869664e11e7ecf225851bc8b2c49db7a3f137086fcb1f373a0419a24"
  },
  "kernelspec": {
   "display_name": "Python 3.9.7 ('base')",
   "language": "python",
   "name": "python3"
  },
  "language_info": {
   "codemirror_mode": {
    "name": "ipython",
    "version": 3
   },
   "file_extension": ".py",
   "mimetype": "text/x-python",
   "name": "python",
   "nbconvert_exporter": "python",
   "pygments_lexer": "ipython3",
   "version": "3.9.7"
  },
  "orig_nbformat": 4
 },
 "nbformat": 4,
 "nbformat_minor": 2
}
