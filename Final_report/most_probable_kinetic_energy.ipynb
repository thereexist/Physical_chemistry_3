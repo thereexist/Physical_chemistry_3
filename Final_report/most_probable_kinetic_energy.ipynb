{
 "cells": [
  {
   "cell_type": "markdown",
   "metadata": {},
   "source": [
    "# Most probable kinetic energy for a molecule in gas phase \n",
    "\n",
    "[![Hits](https://hits.seeyoufarm.com/api/count/incr/badge.svg?url=https%3A%2F%2Fgithub.com%2Fthereexist%2FPhysical_chemistry_3%2Fblob%2Fmain%2FFinal_report%2Fmost_probable_kinetic_energy.ipynb&count_bg=%2379C83D&title_bg=%23555555&icon=&icon_color=%23E7E7E7&title=hits&edge_flat=false)](https://hits.seeyoufarm.com)\n",
    "\n",
    "아주 어려운 문제는 아니기에, 매우 간단하게만 짚어주고 가겠습니다.\n",
    "\n",
    "most probable speed를 수업시간에,\n",
    "\n",
    "$$u_{mp} = \\sqrt{\\frac{2 k_B T}{m}} $$\n",
    "\n",
    "이라는 값으로 얻은 바 있습니다. 이는 Maxwell-Boltzmann distribution의 극대점에 해당하는 값입니다.\n",
    "\n",
    "마찬가지로, $F(\\varepsilon)$의 극대값을 찾으면 그곳이 바로 most probable kinetic energy 지점입니다.\n",
    "\n",
    "$$\\frac{\\partial}{\\partial \\varepsilon} \\left( \\varepsilon^{1/2} e^{-\\beta \\varepsilon} \\right) = \\left( \\frac{1}{2}\\varepsilon^{-1/2} -\\beta \\varepsilon^{1/2} \\right) e^{-\\beta \\varepsilon} =0 \\text{  for  }\\varepsilon = \\varepsilon_{mp}$$\n",
    "\n",
    "$$\\therefore \\varepsilon_{mp} = \\frac{1}{2} k_B T$$\n",
    "\n",
    "가 됩니다.\n",
    "\n",
    "여기서 한가지 짚고 넘어갈 점이 있다면, $\\varepsilon_{mp}$를 만족하는 분자의 속력이 $u_{mp}$가 아니라는 점입니다. 이는 왜 그럴까요?\n",
    "\n",
    "이는 $du = d\\varepsilon / (2m\\varepsilon)^{1/2}$ 으로 인해, $u$ ~ $u+du$ 를 만족하는 분자가 energy coordinate 관점에서는 $\\varepsilon$ ~ $\\varepsilon + d\\varepsilon$ 가 아닌\n",
    "\n",
    "$\\varepsilon$ ~ $\\varepsilon + d\\varepsilon / (2m \\varepsilon)^{1/2}$ "
   ]
  },
  {
   "cell_type": "markdown",
   "metadata": {},
   "source": [
    "\n",
    "# Variance of kinetic energy of molecule, coefficient of variation\n",
    "\n",
    "이 또한 계산은 쉽게 하실 것이라고 생각합니다.\n",
    "\n",
    "$$\\braket{\\varepsilon^2} = \\int_0^\\infty \\varepsilon^2 F(\\varepsilon) d\\varepsilon = \\frac{15}{4} (k_B T)^2$$\n",
    "\n",
    "$$\\braket{\\varepsilon} = \\int_0^\\infty \\varepsilon F(\\varepsilon) d\\varepsilon = \\frac{3}{2} k_B T$$\n",
    "\n",
    "\n",
    "\n",
    "Hint\n",
    "\n",
    "[**$$\\int_0^\\infty x^{\\alpha/2} e^{-x} dx = \\Gamma(\\frac{\\alpha}{2} + 1)$$**](https://www.wikiwand.com/en/Gamma_function)\n",
    "\n",
    "or\n",
    "\n",
    "$$\\int_0^\\infty x^{\\alpha/2} e^{-x} dx = 2 \\int_0^\\infty k^{\\alpha+1} e^{-k^2} dk$$\n",
    "\n"
   ]
  },
  {
   "cell_type": "markdown",
   "metadata": {},
   "source": [
    "-----------------------\n",
    "\n",
    "$$\\sigma_{\\varepsilon}^2 = \\braket{\\varepsilon^2} - \\braket{\\varepsilon}^2 = \\frac{3}{2} (k_B T)^2$$\n",
    "\n",
    "따라서,\n",
    "\n",
    "$$\\sigma_{\\varepsilon} / \\braket{\\varepsilon} = \\sqrt{\\frac{2}{3}}$$\n",
    "\n",
    "\n"
   ]
  },
  {
   "cell_type": "markdown",
   "metadata": {},
   "source": [
    "이 결과는 다음과 같은 사실을 보여줍니다.\n",
    "\n",
    "1. Standard deviation은 $\\braket{\\varepsilon}$이 커질수록 선형 비례하여 커진다.\n",
    "\n",
    "2. 그럼에도 불구하고, $\\sigma_\\varepsilon / \\braket{\\varepsilon}$ 값은 일정하다.\n",
    "\n",
    "이러한 결과는 $\\varepsilon$의 단위를 $\\braket{\\varepsilon}$ 로 볼 수 있다고 생각할 수도 있습니다."
   ]
  },
  {
   "cell_type": "markdown",
   "metadata": {},
   "source": []
  }
 ],
 "metadata": {
  "language_info": {
   "name": "python"
  },
  "orig_nbformat": 4
 },
 "nbformat": 4,
 "nbformat_minor": 2
}
